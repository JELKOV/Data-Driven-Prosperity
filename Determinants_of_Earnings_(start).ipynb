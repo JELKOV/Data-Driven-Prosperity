{
 "nbformat": 4,
 "nbformat_minor": 0,
 "metadata": {
  "colab": {
   "name": "Determinants of Earnings (start).ipynb",
   "provenance": [],
   "toc_visible": true
  },
  "kernelspec": {
   "name": "python3",
   "display_name": "Python 3 (ipykernel)",
   "language": "python"
  }
 },
 "cells": [
  {
   "cell_type": "markdown",
   "metadata": {
    "id": "BHg0HZz-intQ"
   },
   "source": [
    "# 소개 (Introduction)\n",
    "\n",
    "**미국 청소년 종단 연구 (National Longitudinal Survey of Youth) 1997-2011 데이터셋**은 미국 데이터를 다루는 사회 과학자들에게 가장 중요한 데이터베이스 중 하나입니다.\n",
    "\n",
    "이 데이터셋을 통해 과학자들은 **소득의 결정 요인**뿐만 아니라 **교육적 성취**에 대해서도 연구할 수 있으며, 이는 **정부 정책**과 밀접한 관련이 있습니다. 또한, **다양한 인종, 성별 및 기타 요인에 따른 교육적 성취와 급여 수준의 차이**와 같은 **정치적으로 민감한 이슈**를 조명할 수도 있습니다.\n",
    "\n",
    "이 변수들이 **교육과 소득에 미치는 영향을 더 잘 이해하게 되면**, 보다 적절한 **정부 정책**을 수립할 수도 있을 것입니다.\n",
    "\n",
    "<center><img src=https://i.imgur.com/cxBpQ3I.png height=400></center>\n"
   ]
  },
  {
   "cell_type": "markdown",
   "metadata": {
    "id": "YjCPWWUSirY_"
   },
   "source": "# Plotly 업그레이드"
  },
  {
   "cell_type": "code",
   "metadata": {
    "id": "v74l3QCGirIX",
    "ExecuteTime": {
     "end_time": "2025-03-01T07:36:36.708482Z",
     "start_time": "2025-03-01T07:36:34.662581Z"
    }
   },
   "source": [
    "%pip install --upgrade plotly"
   ],
   "outputs": [
    {
     "name": "stdout",
     "output_type": "stream",
     "text": [
      "Requirement already satisfied: plotly in c:\\users\\gram\\technical python project\\.venv\\lib\\site-packages (6.0.0)\n",
      "Requirement already satisfied: narwhals>=1.15.1 in c:\\users\\gram\\technical python project\\.venv\\lib\\site-packages (from plotly) (1.25.0)\n",
      "Requirement already satisfied: packaging in c:\\users\\gram\\technical python project\\.venv\\lib\\site-packages (from plotly) (24.2)\n",
      "Note: you may need to restart the kernel to use updated packages.\n"
     ]
    }
   ],
   "execution_count": 7
  },
  {
   "cell_type": "markdown",
   "metadata": {
    "id": "br_QkHBMjC1Q"
   },
   "source": [
    "###  라이브러리 불러오기 (Import Statements)\n",
    "\n"
   ]
  },
  {
   "cell_type": "code",
   "metadata": {
    "id": "gSKZx-kwie_u",
    "ExecuteTime": {
     "end_time": "2025-03-01T07:36:37.706117Z",
     "start_time": "2025-03-01T07:36:36.775319Z"
    }
   },
   "source": [
    "import pandas as pd\n",
    "import numpy as np\n",
    "\n",
    "import seaborn as sns\n",
    "import plotly.express as px\n",
    "import matplotlib.pyplot as plt\n",
    "\n",
    "from sklearn.linear_model import LinearRegression\n",
    "from sklearn.model_selection import train_test_split"
   ],
   "outputs": [],
   "execution_count": 8
  },
  {
   "cell_type": "markdown",
   "metadata": {
    "id": "9pgsrth_izCn"
   },
   "source": "## 노트북 출력 설정 (Notebook Presentation)"
  },
  {
   "cell_type": "code",
   "metadata": {
    "id": "Cgwu-WbBizqY",
    "ExecuteTime": {
     "end_time": "2025-03-01T07:36:37.719497Z",
     "start_time": "2025-03-01T07:36:37.715550Z"
    }
   },
   "source": [
    "pd.options.display.float_format = '{:,.2f}'.format"
   ],
   "outputs": [],
   "execution_count": 9
  },
  {
   "cell_type": "markdown",
   "metadata": {
    "id": "E5bhysOOjLRr"
   },
   "source": [
    "# 데이터 불러오기 (Load the Data)\n",
    "\n"
   ]
  },
  {
   "cell_type": "code",
   "metadata": {
    "id": "6VngeTQwjM-X",
    "ExecuteTime": {
     "end_time": "2025-03-01T07:36:37.775334Z",
     "start_time": "2025-03-01T07:36:37.742168Z"
    }
   },
   "source": [
    "df_data = pd.read_csv('NLSY97_subset.csv')"
   ],
   "outputs": [],
   "execution_count": 10
  },
  {
   "cell_type": "markdown",
   "metadata": {
    "id": "_ZjIBJ5jjrj0"
   },
   "source": [
    "### 데이터 이해하기 (Understand the Dataset)\n",
    "\n",
    "다음 파일을 확인하세요: **NLSY97_Variable_Names_and_Descriptions.csv**\n",
    "\n",
    "---------------------------\n",
    "\n",
    "    :주요 변수(Key Variables):\n",
    "      1. S           - 학력연수 (Years of schooling (highest grade completed as of 2011))\n",
    "      2. EXP         - 총 근무연수 (Total out-of-school work experience (years) as of the 2011 interview.)\n",
    "      3. EARNINGS    - 시간당 소득 (Current hourly earnings in $ reported at the 2011 interview)"
   ]
  },
  {
   "cell_type": "markdown",
   "metadata": {
    "id": "8MkSxkjVnIfW"
   },
   "source": [
    "# 기초 데이터 탐색 🔍 (Preliminary Data Exploration)\n",
    "\n",
    "**문제 확인 (Challenge)**\n",
    "\n",
    "* df_data의 형태는 어떻게 되는가?(What is the shape of `df_data`? )\n",
    "* 몇 개의 행과 열이 있는가? (How many rows and columns does it have?)\n",
    "* 컬럼(변수) 이름은 무엇인가? (What are the column names?)\n",
    "* NaN 값 또는 중복 데이터가 있는가? (Are there any NaN values or duplicates?)"
   ]
  },
  {
   "cell_type": "code",
   "metadata": {
    "id": "V_cQguBbjwZv",
    "ExecuteTime": {
     "end_time": "2025-03-01T07:36:37.784995Z",
     "start_time": "2025-03-01T07:36:37.782495Z"
    }
   },
   "source": [
    ""
   ],
   "outputs": [],
   "execution_count": null
  },
  {
   "cell_type": "markdown",
   "metadata": {
    "id": "4itxqgP6nQj3"
   },
   "source": [
    "## 데이터 정리 - 결측값 및 중복 데이터 확인 (Data Cleaning - Check for Missing Values and Duplicates)\n",
    "\n",
    "중복된 행을 찾아 제거하세요. (Find and remove any duplicate rows.)"
   ]
  },
  {
   "cell_type": "code",
   "metadata": {
    "id": "J3DHEFXWnS2N",
    "ExecuteTime": {
     "end_time": "2025-03-01T07:36:37.810965Z",
     "start_time": "2025-03-01T07:36:37.807764Z"
    }
   },
   "source": [
    ""
   ],
   "outputs": [],
   "execution_count": null
  },
  {
   "cell_type": "markdown",
   "metadata": {
    "id": "gGmBBPxZnVKC"
   },
   "source": "## 기술 통계 (Descriptive Statistics)"
  },
  {
   "cell_type": "code",
   "metadata": {
    "id": "I5VP2BMVnVrt",
    "ExecuteTime": {
     "end_time": "2025-03-01T07:36:37.851226Z",
     "start_time": "2025-03-01T07:36:37.848284Z"
    }
   },
   "source": [
    ""
   ],
   "outputs": [],
   "execution_count": null
  },
  {
   "cell_type": "markdown",
   "metadata": {
    "id": "ZO-86NXbnWSH"
   },
   "source": "## 특징 시각화 (Visualise the Features)"
  },
  {
   "cell_type": "code",
   "metadata": {
    "id": "hFZJjbsKncPM",
    "ExecuteTime": {
     "end_time": "2025-03-01T07:36:37.909836Z",
     "start_time": "2025-03-01T07:36:37.906703Z"
    }
   },
   "source": [
    ""
   ],
   "outputs": [],
   "execution_count": null
  },
  {
   "cell_type": "markdown",
   "metadata": {
    "id": "9i4zHYG4nhDL"
   },
   "source": [
    "# 훈련 & 테스트 데이터셋 분할 (Split Training & Test Dataset)\n",
    "\n",
    "우리는 전체 데이터를 학습에 사용할 수 없습니다.\n",
    "데이터의 20%를 테스트 데이터셋으로 분리하여 나중에 모델 성능을 평가하는 데 사용합니다.\n",
    "<br>\n",
    "We *can't* use all the entries in our dataset to train our model. Keep 20% of the data for later as a testing dataset (out-of-sample data).  "
   ]
  },
  {
   "cell_type": "code",
   "metadata": {
    "id": "M_OfRSyunkA1",
    "ExecuteTime": {
     "end_time": "2025-03-01T07:36:37.981290Z",
     "start_time": "2025-03-01T07:36:37.977394Z"
    }
   },
   "source": [
    ""
   ],
   "outputs": [],
   "execution_count": null
  },
  {
   "cell_type": "markdown",
   "metadata": {
    "id": "EM99NOH0noFS"
   },
   "source": [
    "# 단순 선형 회귀 (Simple Linear Regression)\n",
    "\n",
    "학교 교육 연수(S)만을 이용하여 소득(EARNINGS)을 예측하는 회귀 모델을 학습합니다.\n",
    "sklearn을 활용하여 훈련 데이터에 대해 회귀 분석을 수행하고, 결정 계수(R²)를 확인하세요.\n",
    "<br>\n",
    "Only use the years of schooling to predict earnings. Use sklearn to run the regression on the training dataset. How high is the r-squared for the regression on the training data? "
   ]
  },
  {
   "cell_type": "code",
   "metadata": {
    "id": "J_MViuoNnvHf",
    "ExecuteTime": {
     "end_time": "2025-03-01T07:36:38.040976Z",
     "start_time": "2025-03-01T07:36:38.032621Z"
    }
   },
   "source": [
    ""
   ],
   "outputs": [],
   "execution_count": null
  },
  {
   "cell_type": "markdown",
   "metadata": {
    "id": "s2TeWKs7oJSa"
   },
   "source": [
    "### 모델 계수 평가 (Evaluate the Coefficients of the Model)\n",
    "\n",
    "회귀 계수(기울기)가 예상한 부호(양수 또는 음수)를 갖는지 확인하세요.\n",
    "<br>\n",
    "추가적인 학업 연수가 소득에 미치는 영향을 해석해 봅시다.\n",
    "<br>\n",
    "Here we do a sense check on our regression coefficients. The first thing to look for is if the coefficients have the expected sign (positive or negative).\n",
    "<br>\n",
    "Interpret the regression. How many extra dollars can one expect to earn for an additional year of schooling?"
   ]
  },
  {
   "cell_type": "code",
   "metadata": {
    "id": "QmhzZAmAoW4t",
    "ExecuteTime": {
     "end_time": "2025-03-01T07:36:38.095086Z",
     "start_time": "2025-03-01T07:36:38.087933Z"
    }
   },
   "source": [
    ""
   ],
   "outputs": [],
   "execution_count": null
  },
  {
   "cell_type": "code",
   "metadata": {
    "id": "e9hpdAt3oWnq",
    "ExecuteTime": {
     "end_time": "2025-03-01T07:36:38.152029Z",
     "start_time": "2025-03-01T07:36:38.148185Z"
    }
   },
   "source": [
    ""
   ],
   "outputs": [],
   "execution_count": null
  },
  {
   "cell_type": "markdown",
   "metadata": {
    "id": "WIyMPXXYobx8"
   },
   "source": [
    "### 예측값 및 회귀 잔차 분석 (Analyse the Estimated Values & Regression Residuals)\n",
    "\n",
    "회귀 모델의 성능은 **잔차(Residuals)**, 즉 **모델의 예측값(ŷᵢ)과 실제값(yᵢ) 간의 차이**에 따라 평가됩니다.\n",
    "<br>\n",
    "잔차의 분포에서 어떤 패턴이 보이나요?\n",
    "<br>\n",
    "How good our regression is also depends on the residuals - the difference between the model's predictions ( 𝑦̂ 𝑖 ) and the true values ( 𝑦𝑖 ) inside y_train. Do you see any patterns in the distribution of the residuals?"
   ]
  },
  {
   "cell_type": "code",
   "metadata": {
    "id": "khkgscweosP_",
    "ExecuteTime": {
     "end_time": "2025-03-01T07:36:38.218078Z",
     "start_time": "2025-03-01T07:36:38.214866Z"
    }
   },
   "source": [
    ""
   ],
   "outputs": [],
   "execution_count": null
  },
  {
   "cell_type": "code",
   "metadata": {
    "id": "m_diDXSXotm6",
    "ExecuteTime": {
     "end_time": "2025-03-01T07:36:38.252846Z",
     "start_time": "2025-03-01T07:36:38.249077Z"
    }
   },
   "source": [
    ""
   ],
   "outputs": [],
   "execution_count": null
  },
  {
   "cell_type": "code",
   "metadata": {
    "id": "6DfAEUWNosHd",
    "ExecuteTime": {
     "end_time": "2025-03-01T07:36:38.273432Z",
     "start_time": "2025-03-01T07:36:38.269352Z"
    }
   },
   "source": [
    ""
   ],
   "outputs": [],
   "execution_count": null
  },
  {
   "cell_type": "markdown",
   "metadata": {
    "id": "zNBuJ1iBnvpl"
   },
   "source": [
    "# 다변량 회귀 (Multivariable Regression)\n",
    "\n",
    "이제 학력 연수(S)와 총 근무 경력(EXP)을 동시에 사용하여 소득(EARNINGS)을 예측하는 회귀 모델을 학습합니다.\n",
    "<br>\n",
    "훈련 데이터에서 **결정 계수(R²)**가 얼마나 높은지 확인하세요.\n",
    "<br>\n",
    "Now use both years of schooling and the years work experience to predict earnings. How high is the r-squared for the regression on the training data? "
   ]
  },
  {
   "cell_type": "code",
   "metadata": {
    "id": "Ihq-C4looCSM",
    "ExecuteTime": {
     "end_time": "2025-03-01T07:36:38.298370Z",
     "start_time": "2025-03-01T07:36:38.295304Z"
    }
   },
   "source": [
    ""
   ],
   "outputs": [],
   "execution_count": null
  },
  {
   "cell_type": "code",
   "metadata": {
    "id": "dRhB7Iwboyfq",
    "ExecuteTime": {
     "end_time": "2025-03-01T07:36:38.346399Z",
     "start_time": "2025-03-01T07:36:38.342367Z"
    }
   },
   "source": [
    ""
   ],
   "outputs": [],
   "execution_count": null
  },
  {
   "cell_type": "markdown",
   "metadata": {
    "id": "nHDtunM0oyuk"
   },
   "source": "### 모델 계수 평가 (Evaluate the Coefficients of the Model)"
  },
  {
   "cell_type": "code",
   "metadata": {
    "id": "5vasqInIoydB",
    "ExecuteTime": {
     "end_time": "2025-03-01T07:36:38.403726Z",
     "start_time": "2025-03-01T07:36:38.399641Z"
    }
   },
   "source": [
    ""
   ],
   "outputs": [],
   "execution_count": null
  },
  {
   "cell_type": "markdown",
   "metadata": {
    "id": "Yv8q90IYou2Q"
   },
   "source": "### 예측값 및 회귀 잔차 분석 (Analyse the Estimated Values & Regression Residuals)"
  },
  {
   "cell_type": "code",
   "metadata": {
    "id": "8NmXnsxfowkI",
    "ExecuteTime": {
     "end_time": "2025-03-01T07:36:38.463992Z",
     "start_time": "2025-03-01T07:36:38.460725Z"
    }
   },
   "source": [
    ""
   ],
   "outputs": [],
   "execution_count": null
  },
  {
   "cell_type": "code",
   "metadata": {
    "id": "0ZZ1e0spo5o1",
    "ExecuteTime": {
     "end_time": "2025-03-01T07:36:38.503509Z",
     "start_time": "2025-03-01T07:36:38.499392Z"
    }
   },
   "source": [
    ""
   ],
   "outputs": [],
   "execution_count": null
  },
  {
   "cell_type": "markdown",
   "metadata": {
    "id": "YWNeoqPLpjVb"
   },
   "source": [
    "# 모델을 사용하여 예측하기 (Use Your Model to Make a Prediction)\n",
    "\n",
    "**2011년 기준, 학사 학위(12 + 4년의 교육)와 5년의 근무 경험이 있는 사람은 얼마를 벌 것으로 예상될까요?**\n",
    "<br>\n",
    "How much can someone with a bachelors degree (12 + 4) years of schooling and 5 years work experience expect to earn in 2011?"
   ]
  },
  {
   "cell_type": "code",
   "metadata": {
    "id": "Mof-14lCpv60",
    "ExecuteTime": {
     "end_time": "2025-03-01T07:36:38.551424Z",
     "start_time": "2025-03-01T07:36:38.547680Z"
    }
   },
   "source": [
    ""
   ],
   "outputs": [],
   "execution_count": null
  },
  {
   "cell_type": "code",
   "metadata": {
    "id": "3htX8_SBpvyb",
    "ExecuteTime": {
     "end_time": "2025-03-01T07:36:38.600408Z",
     "start_time": "2025-03-01T07:36:38.596905Z"
    }
   },
   "source": [
    ""
   ],
   "outputs": [],
   "execution_count": null
  },
  {
   "cell_type": "markdown",
   "metadata": {
    "id": "TIYI-eQepDSQ"
   },
   "source": [
    "# 추가 실험 및 심화 탐구 (Experiment and Investigate Further)\n",
    "\n",
    "회귀 분석을 개선하여 소득 예측을 더 정확하게 만들기 위해 어떤 추가적인 특징(Feature)을 고려할 수 있을까요?\n",
    "<br>\n",
    "Which other features could you consider adding to further improve the regression to better predict earnings? "
   ]
  },
  {
   "cell_type": "code",
   "metadata": {
    "id": "sd07-pKopJgo",
    "ExecuteTime": {
     "end_time": "2025-03-01T07:36:38.644966Z",
     "start_time": "2025-03-01T07:36:38.641198Z"
    }
   },
   "source": [
    ""
   ],
   "outputs": [],
   "execution_count": null
  },
  {
   "cell_type": "code",
   "metadata": {
    "id": "Fohe2-Rdp1MO",
    "ExecuteTime": {
     "end_time": "2025-03-01T07:36:38.674549Z",
     "start_time": "2025-03-01T07:36:38.671344Z"
    }
   },
   "source": [
    ""
   ],
   "outputs": [],
   "execution_count": null
  }
 ]
}
